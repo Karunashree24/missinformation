{
 "cells": [
  {
   "cell_type": "code",
   "execution_count": 1,
   "metadata": {},
   "outputs": [
    {
     "name": "stdout",
     "output_type": "stream",
     "text": [
      "Requirement already satisfied: wordcloud in c:\\users\\alber\\anaconda3\\lib\\site-packages (1.8.1)\n",
      "Requirement already satisfied: pillow in c:\\users\\alber\\anaconda3\\lib\\site-packages (from wordcloud) (8.4.0)\n",
      "Requirement already satisfied: numpy>=1.6.1 in c:\\users\\alber\\anaconda3\\lib\\site-packages (from wordcloud) (1.20.3)\n",
      "Note: you may need to restart the kernel to use updated packages.Requirement already satisfied: matplotlib in c:\\users\\alber\\anaconda3\\lib\\site-packages (from wordcloud) (3.5.0)\n",
      "Requirement already satisfied: fonttools>=4.22.0 in c:\\users\\alber\\anaconda3\\lib\\site-packages (from matplotlib->wordcloud) (4.25.0)\n",
      "Requirement already satisfied: packaging>=20.0 in c:\\users\\alber\\anaconda3\\lib\\site-packages (from matplotlib->wordcloud) (21.3)\n",
      "Requirement already satisfied: cycler>=0.10 in c:\\users\\alber\\anaconda3\\lib\\site-packages (from matplotlib->wordcloud) (0.11.0)\n",
      "Requirement already satisfied: kiwisolver>=1.0.1 in c:\\users\\alber\\anaconda3\\lib\\site-packages (from matplotlib->wordcloud) (1.3.1)\n",
      "Requirement already satisfied: python-dateutil>=2.7 in c:\\users\\alber\\anaconda3\\lib\\site-packages (from matplotlib->wordcloud) (2.8.2)\n",
      "Requirement already satisfied: pyparsing>=2.2.1 in c:\\users\\alber\\anaconda3\\lib\\site-packages (from matplotlib->wordcloud) (3.0.4)\n",
      "Requirement already satisfied: six>=1.5 in c:\\users\\alber\\anaconda3\\lib\\site-packages (from python-dateutil>=2.7->matplotlib->wordcloud) (1.16.0)\n",
      "\n"
     ]
    }
   ],
   "source": [
    "pip install wordcloud"
   ]
  },
  {
   "cell_type": "code",
   "execution_count": 4,
   "metadata": {
    "id": "hXfpf2uukM62"
   },
   "outputs": [],
   "source": [
    "import pandas as pd  \n",
    "import numpy as np\n",
    "import matplotlib.pyplot as plt\n",
    "from matplotlib import cm\n",
    "import seaborn as sns; sns.set()\n",
    "\n",
    "\n",
    "import re\n",
    "import string\n",
    "\n",
    "import nltk\n",
    "from nltk.tokenize import RegexpTokenizer\n",
    "from nltk.probability import FreqDist\n",
    "from nltk.corpus import stopwords\n",
    "from nltk.stem import WordNetLemmatizer \n",
    "from wordcloud import WordCloud\n",
    "\n",
    "from sklearn import metrics\n",
    "from sklearn.metrics import confusion_matrix\n",
    "from sklearn.model_selection import train_test_split\n",
    "from sklearn.naive_bayes import MultinomialNB\n",
    "from sklearn.linear_model import LogisticRegression\n",
    "from sklearn.ensemble import RandomForestClassifier\n",
    "from sklearn.metrics import accuracy_score, f1_score\n",
    "from sklearn.metrics import roc_curve, auc, classification_report\n",
    "from sklearn.metrics import precision_score, recall_score, confusion_matrix, plot_confusion_matrix\n",
    "\n",
    "from sklearn.feature_extraction.text import CountVectorizer\n",
    "from sklearn.feature_extraction.text import TfidfVectorizer  \n",
    "from sklearn.feature_extraction.text import TfidfTransformer\n",
    "\n",
    "\n",
    "plt.style.use('fivethirtyeight')\n",
    "%config InlineBackend.figure_format = 'retina'"
   ]
  },
  {
   "cell_type": "code",
   "execution_count": 5,
   "metadata": {
    "colab": {
     "base_uri": "https://localhost:8080/",
     "height": 206
    },
    "id": "vBsGRkP8kcPc",
    "outputId": "b8fbd8dc-6e1f-4fa9-a907-350a8462ed70"
   },
   "outputs": [
    {
     "data": {
      "text/html": [
       "<div>\n",
       "<style scoped>\n",
       "    .dataframe tbody tr th:only-of-type {\n",
       "        vertical-align: middle;\n",
       "    }\n",
       "\n",
       "    .dataframe tbody tr th {\n",
       "        vertical-align: top;\n",
       "    }\n",
       "\n",
       "    .dataframe thead th {\n",
       "        text-align: right;\n",
       "    }\n",
       "</style>\n",
       "<table border=\"1\" class=\"dataframe\">\n",
       "  <thead>\n",
       "    <tr style=\"text-align: right;\">\n",
       "      <th></th>\n",
       "      <th>id</th>\n",
       "      <th>is_misinfo</th>\n",
       "      <th>Texts</th>\n",
       "    </tr>\n",
       "  </thead>\n",
       "  <tbody>\n",
       "    <tr>\n",
       "      <th>0</th>\n",
       "      <td>1,34361E+18</td>\n",
       "      <td>0</td>\n",
       "      <td>Happy to be getting my first dose of vaccine! ...</td>\n",
       "    </tr>\n",
       "    <tr>\n",
       "      <th>1</th>\n",
       "      <td>1,38757E+18</td>\n",
       "      <td>0</td>\n",
       "      <td>2nd shot done, ready to run (in 10 days of cou...</td>\n",
       "    </tr>\n",
       "    <tr>\n",
       "      <th>2</th>\n",
       "      <td>1,34685E+18</td>\n",
       "      <td>1</td>\n",
       "      <td>I wonder are the Garda we warned that they wou...</td>\n",
       "    </tr>\n",
       "    <tr>\n",
       "      <th>3</th>\n",
       "      <td>1,3466E+18</td>\n",
       "      <td>0</td>\n",
       "      <td>if you think watch is better than &amp;amp;burn do...</td>\n",
       "    </tr>\n",
       "    <tr>\n",
       "      <th>4</th>\n",
       "      <td>1,34409E+18</td>\n",
       "      <td>0</td>\n",
       "      <td>I’m so sore from legs yesterday and I got the ...</td>\n",
       "    </tr>\n",
       "  </tbody>\n",
       "</table>\n",
       "</div>"
      ],
      "text/plain": [
       "            id  is_misinfo                                              Texts\n",
       "0  1,34361E+18           0  Happy to be getting my first dose of vaccine! ...\n",
       "1  1,38757E+18           0  2nd shot done, ready to run (in 10 days of cou...\n",
       "2  1,34685E+18           1  I wonder are the Garda we warned that they wou...\n",
       "3   1,3466E+18           0  if you think watch is better than &amp;burn do...\n",
       "4  1,34409E+18           0  I’m so sore from legs yesterday and I got the ..."
      ]
     },
     "execution_count": 5,
     "metadata": {},
     "output_type": "execute_result"
    }
   ],
   "source": [
    "df = pd.read_csv(\"Data_Gp3.csv\", sep=\";\", encoding='cp1252')\n",
    "df.head()"
   ]
  },
  {
   "cell_type": "code",
   "execution_count": 7,
   "metadata": {
    "colab": {
     "base_uri": "https://localhost:8080/"
    },
    "id": "lJha5Terkuvu",
    "outputId": "1acb6b9c-6d71-40e1-ac56-1d9b7e20082c"
   },
   "outputs": [
    {
     "name": "stdout",
     "output_type": "stream",
     "text": [
      "(6000, 3)\n"
     ]
    }
   ],
   "source": [
    "print(df.shape)"
   ]
  },
  {
   "cell_type": "code",
   "execution_count": 6,
   "metadata": {
    "id": "Mn8uDsxKk0uW"
   },
   "outputs": [],
   "source": [
    "# Drop NaN values in text column\n",
    "\n",
    "df.dropna(subset=['Texts'], inplace=True)"
   ]
  },
  {
   "cell_type": "code",
   "execution_count": 7,
   "metadata": {
    "colab": {
     "base_uri": "https://localhost:8080/",
     "height": 316
    },
    "id": "5JKJQejZlFW-",
    "outputId": "19876258-5449-4c5f-d4ef-994b77ea3811"
   },
   "outputs": [
    {
     "data": {
      "text/plain": [
       "<AxesSubplot:xlabel='is_misinfo', ylabel='count'>"
      ]
     },
     "execution_count": 7,
     "metadata": {},
     "output_type": "execute_result"
    },
    {
     "data": {
      "image/png": "[encoded data removed]",
      "text/plain": [
       "<Figure size 432x288 with 1 Axes>"
      ]
     },
     "metadata": {
      "image/png": {
       "height": 280,
       "width": 437
      }
     },
     "output_type": "display_data"
    }
   ],
   "source": [
    "# Is the labelled data balance?\n",
    "df['is_misinfo'].value_counts()\n",
    "\n",
    "def create_distribution(dataFile):\n",
    "  return sns.countplot(x='is_misinfo', data=dataFile, palette='hls')\n",
    "\n",
    "create_distribution(df)"
   ]
  },
  {
   "cell_type": "code",
   "execution_count": 8,
   "metadata": {
    "id": "i2LjKynllYP4"
   },
   "outputs": [],
   "source": [
    "# Create function with text cleaning techniques usinx regex\n",
    "\n",
    "def clean_text_step1(text):\n",
    "    '''\n",
    "    Looking for speciffic patterns in the text and \n",
    "    removing them or replacing with space\n",
    "    Function returns string\n",
    "    '''\n",
    "        \n",
    "    # make text lowercase\n",
    "    text = text.lower()\n",
    "    \n",
    "    # string punctuations\n",
    "    text = re.sub('[%s]' % re.escape(string.punctuation), '', text)\n",
    "    \n",
    "    # removing patterns and replace it with nothing\n",
    "    text = re.sub('\\[.*?\\]', '', text)\n",
    " \n",
    "    # removing digits if they surounded with text or digit\n",
    "    text = re.sub('\\w*\\d\\w*', '', text)\n",
    "    \n",
    "    # make just 1 space if there is more then 1\n",
    "    text = re.sub('\\s+', ' ', text)\n",
    "    \n",
    "    # replace new line symbol with space\n",
    "    text = re.sub('\\n', ' ', text)\n",
    "    \n",
    "    # removing any quotes\n",
    "    text = re.sub('\\\"+', '', text)\n",
    "    \n",
    "    # removing &amp;\n",
    "    text = re.sub('(\\&amp\\;)', '', text)\n",
    "    \n",
    "    # cleaning from user name\n",
    "    text = re.sub('(@[^\\s]+)', '', text)\n",
    "    \n",
    "    # looking for # and replacing it\n",
    "    text = re.sub('(#[^\\s]+)', '', text)\n",
    "    \n",
    "    # removing `rt`\n",
    "    text = re.sub('(rt)', '', text)\n",
    "\n",
    "    # looking for `httptco`\n",
    "    text = re.sub('(httptco)', '', text)\n",
    "    \n",
    "    # looking for `mkr`\n",
    "    text = re.sub('(mkr)', '', text)\n",
    "    \n",
    "    text = re.sub('(sexist)', '', text)\n",
    "    \n",
    "    text = re.sub('(like)', '', text)\n",
    "    \n",
    "    text = re.sub('(women)', '', text)\n",
    "\n",
    "    return text"
   ]
  },
  {
   "cell_type": "code",
   "execution_count": 9,
   "metadata": {
    "colab": {
     "base_uri": "https://localhost:8080/",
     "height": 206
    },
    "id": "kG-tUbddlulq",
    "outputId": "cfba2011-fd75-4e0d-f5ad-832e0f2b0db3"
   },
   "outputs": [
    {
     "data": {
      "text/html": [
       "<div>\n",
       "<style scoped>\n",
       "    .dataframe tbody tr th:only-of-type {\n",
       "        vertical-align: middle;\n",
       "    }\n",
       "\n",
       "    .dataframe tbody tr th {\n",
       "        vertical-align: top;\n",
       "    }\n",
       "\n",
       "    .dataframe thead th {\n",
       "        text-align: right;\n",
       "    }\n",
       "</style>\n",
       "<table border=\"1\" class=\"dataframe\">\n",
       "  <thead>\n",
       "    <tr style=\"text-align: right;\">\n",
       "      <th></th>\n",
       "      <th>id</th>\n",
       "      <th>is_misinfo</th>\n",
       "      <th>Texts</th>\n",
       "    </tr>\n",
       "  </thead>\n",
       "  <tbody>\n",
       "    <tr>\n",
       "      <th>0</th>\n",
       "      <td>1,34361E+18</td>\n",
       "      <td>0</td>\n",
       "      <td>happy to be getting my first dose of vaccine i...</td>\n",
       "    </tr>\n",
       "    <tr>\n",
       "      <th>1</th>\n",
       "      <td>1,38757E+18</td>\n",
       "      <td>0</td>\n",
       "      <td>shot done ready to run in days of course walg...</td>\n",
       "    </tr>\n",
       "    <tr>\n",
       "      <th>2</th>\n",
       "      <td>1,34685E+18</td>\n",
       "      <td>1</td>\n",
       "      <td>i wonder are the garda we warned that they wou...</td>\n",
       "    </tr>\n",
       "    <tr>\n",
       "      <th>3</th>\n",
       "      <td>1,3466E+18</td>\n",
       "      <td>0</td>\n",
       "      <td>if you think watch is better than ampburn do n...</td>\n",
       "    </tr>\n",
       "    <tr>\n",
       "      <th>4</th>\n",
       "      <td>1,34409E+18</td>\n",
       "      <td>0</td>\n",
       "      <td>i’m so sore from legs yesterday and i got the ...</td>\n",
       "    </tr>\n",
       "  </tbody>\n",
       "</table>\n",
       "</div>"
      ],
      "text/plain": [
       "            id  is_misinfo                                              Texts\n",
       "0  1,34361E+18           0  happy to be getting my first dose of vaccine i...\n",
       "1  1,38757E+18           0   shot done ready to run in days of course walg...\n",
       "2  1,34685E+18           1  i wonder are the garda we warned that they wou...\n",
       "3   1,3466E+18           0  if you think watch is better than ampburn do n...\n",
       "4  1,34409E+18           0  i’m so sore from legs yesterday and i got the ..."
      ]
     },
     "execution_count": 9,
     "metadata": {},
     "output_type": "execute_result"
    }
   ],
   "source": [
    "# Applying function for cleaning text data\n",
    "\n",
    "df['Texts'] = df['Texts'].apply(clean_text_step1)\n",
    "df.head()"
   ]
  },
  {
   "cell_type": "code",
   "execution_count": 10,
   "metadata": {
    "id": "-3ur5Sysl1SO"
   },
   "outputs": [],
   "source": [
    "# function to filter data with words that contain more then 2 characters\n",
    "def txt_filtering(row, n =2):\n",
    "    new_words = []\n",
    "    for w in row['Texts'].split(' '):\n",
    "        if len(w) > 2:\n",
    "            new_words.append(w)\n",
    "    row['Texts'] = ' '.join(new_words)\n",
    "    return row"
   ]
  },
  {
   "cell_type": "code",
   "execution_count": 11,
   "metadata": {
    "id": "nbD5X8z4l-Nu"
   },
   "outputs": [],
   "source": [
    "df = df.apply(txt_filtering, axis = 1)"
   ]
  },
  {
   "cell_type": "code",
   "execution_count": 12,
   "metadata": {
    "colab": {
     "base_uri": "https://localhost:8080/"
    },
    "id": "43oub4VrmBtz",
    "outputId": "83af4e22-8cfc-4b68-9146-39cf89d762fe"
   },
   "outputs": [
    {
     "name": "stderr",
     "output_type": "stream",
     "text": [
      "[nltk_data] Downloading package stopwords to\n",
      "[nltk_data]     C:\\Users\\alber\\AppData\\Roaming\\nltk_data...\n",
      "[nltk_data]   Package stopwords is already up-to-date!\n"
     ]
    }
   ],
   "source": [
    "# Tokenization Data (splitting into smaller pieces) and removing stopwords\n",
    "nltk.download('stopwords')\n",
    "stopwords_list = stopwords.words('english')"
   ]
  },
  {
   "cell_type": "code",
   "execution_count": 13,
   "metadata": {
    "id": "hl3xmLYTmGuf"
   },
   "outputs": [],
   "source": [
    "def tokenize_text(text):\n",
    "    \n",
    "    \"\"\"\n",
    "    Tokenize document and create visualization of most recent words\n",
    "    Wiil filter data with stopwords\n",
    "    \"\"\"\n",
    "    tokens = nltk.word_tokenize(text)\n",
    "    \n",
    "    stopwords_removed = [token for token in tokens if token not in stopwords_list] \n",
    "    \n",
    "    return stopwords_removed\n"
   ]
  },
  {
   "cell_type": "code",
   "execution_count": 14,
   "metadata": {
    "colab": {
     "base_uri": "https://localhost:8080/"
    },
    "id": "TErcQRZVmWef",
    "outputId": "c60bedee-0957-45c0-fa3f-34ab877a2159"
   },
   "outputs": [
    {
     "name": "stderr",
     "output_type": "stream",
     "text": [
      "[nltk_data] Downloading package punkt to\n",
      "[nltk_data]     C:\\Users\\alber\\AppData\\Roaming\\nltk_data...\n",
      "[nltk_data]   Package punkt is already up-to-date!\n"
     ]
    }
   ],
   "source": [
    "nltk.download('punkt')\n",
    "processed_text = list(map(tokenize_text, df['Texts']))"
   ]
  },
  {
   "cell_type": "code",
   "execution_count": 15,
   "metadata": {
    "id": "IQPWJuP6mi4C"
   },
   "outputs": [],
   "source": [
    "def plot_frequency(data):\n",
    "    \"\"\"\n",
    "    Ploting words frequency distribution\n",
    "    from corpus. data should be list of lists with strings\n",
    "    \"\"\"\n",
    "    words_lst = []\n",
    "    for tweet in data:\n",
    "        for word in tweet:\n",
    "            words_lst.append(word)\n",
    "\n",
    "    fdist = FreqDist(words_lst)\n",
    "    plt.figure(figsize=(10,6))\n",
    "    fdist.plot(30, title = \"Frequency distribution of words within corpus\")\n",
    "    plt.show()"
   ]
  },
  {
   "cell_type": "code",
   "execution_count": 16,
   "metadata": {
    "colab": {
     "base_uri": "https://localhost:8080/",
     "height": 505
    },
    "id": "2qclcehrmn45",
    "outputId": "b97e87ed-365c-498f-91a1-5364cd45ad06"
   },
   "outputs": [
    {
     "data": {
      "image/png": "[encoded data removed]",
      "text/plain": [
       "<Figure size 720x432 with 1 Axes>"
      ]
     },
     "metadata": {
      "image/png": {
       "height": 476,
       "width": 688
      }
     },
     "output_type": "display_data"
    }
   ],
   "source": [
    "plot_frequency(processed_text)"
   ]
  },
  {
   "cell_type": "code",
   "execution_count": 17,
   "metadata": {
    "colab": {
     "base_uri": "https://localhost:8080/"
    },
    "id": "jK0kn1bkmtED",
    "outputId": "94af1a17-fcb3-446a-8be3-73052eb9aa4e"
   },
   "outputs": [
    {
     "data": {
      "text/plain": [
       "[['happy',\n",
       "  'getting',\n",
       "  'first',\n",
       "  'dose',\n",
       "  'vaccine',\n",
       "  'time',\n",
       "  'fked',\n",
       "  'vaccines',\n",
       "  'arms',\n",
       "  'thats',\n",
       "  'going',\n",
       "  'happen',\n",
       "  'upyourscorona'],\n",
       " ['shot',\n",
       "  'done',\n",
       "  'ready',\n",
       "  'run',\n",
       "  'days',\n",
       "  'course',\n",
       "  'walgreens',\n",
       "  'awesome',\n",
       "  'pfizer',\n",
       "  'great',\n",
       "  '’',\n",
       "  'hesitant',\n",
       "  'hit',\n",
       "  'dogs',\n",
       "  'need',\n",
       "  'vax',\n",
       "  'boarding',\n",
       "  'kids',\n",
       "  'need',\n",
       "  'vax',\n",
       "  'school',\n",
       "  'plus',\n",
       "  'keep',\n",
       "  'dying',\n",
       "  'going',\n",
       "  'hospital…getvaccinated',\n",
       "  'vaccinated']]"
      ]
     },
     "execution_count": 17,
     "metadata": {},
     "output_type": "execute_result"
    }
   ],
   "source": [
    "processed_text[:2]"
   ]
  },
  {
   "cell_type": "code",
   "execution_count": 18,
   "metadata": {
    "colab": {
     "base_uri": "https://localhost:8080/"
    },
    "id": "U6wg7d0ZmxBV",
    "outputId": "0663fd2b-0180-41ae-969a-4d2d743d1139"
   },
   "outputs": [
    {
     "data": {
      "text/plain": [
       "12267"
      ]
     },
     "execution_count": 18,
     "metadata": {},
     "output_type": "execute_result"
    }
   ],
   "source": [
    "total_vocab = set()\n",
    "for tweet in processed_text:\n",
    "    total_vocab.update(tweet)\n",
    "len(total_vocab)"
   ]
  },
  {
   "cell_type": "code",
   "execution_count": 19,
   "metadata": {
    "colab": {
     "base_uri": "https://localhost:8080/",
     "height": 206
    },
    "id": "RCKK07xSm28S",
    "outputId": "1cd845a6-6cc5-4991-e2e8-42e0cb19cf24"
   },
   "outputs": [
    {
     "data": {
      "text/html": [
       "<div>\n",
       "<style scoped>\n",
       "    .dataframe tbody tr th:only-of-type {\n",
       "        vertical-align: middle;\n",
       "    }\n",
       "\n",
       "    .dataframe tbody tr th {\n",
       "        vertical-align: top;\n",
       "    }\n",
       "\n",
       "    .dataframe thead th {\n",
       "        text-align: right;\n",
       "    }\n",
       "</style>\n",
       "<table border=\"1\" class=\"dataframe\">\n",
       "  <thead>\n",
       "    <tr style=\"text-align: right;\">\n",
       "      <th></th>\n",
       "      <th>id</th>\n",
       "      <th>is_misinfo</th>\n",
       "      <th>Texts</th>\n",
       "    </tr>\n",
       "  </thead>\n",
       "  <tbody>\n",
       "    <tr>\n",
       "      <th>0</th>\n",
       "      <td>1,34361E+18</td>\n",
       "      <td>0</td>\n",
       "      <td>happy getting first dose vaccine its time that...</td>\n",
       "    </tr>\n",
       "    <tr>\n",
       "      <th>1</th>\n",
       "      <td>1,38757E+18</td>\n",
       "      <td>0</td>\n",
       "      <td>shot done ready run days course walgreens was ...</td>\n",
       "    </tr>\n",
       "    <tr>\n",
       "      <th>2</th>\n",
       "      <td>1,34685E+18</td>\n",
       "      <td>1</td>\n",
       "      <td>wonder are the garda warned that they would on...</td>\n",
       "    </tr>\n",
       "    <tr>\n",
       "      <th>3</th>\n",
       "      <td>1,3466E+18</td>\n",
       "      <td>0</td>\n",
       "      <td>you think watch better than ampburn not worry ...</td>\n",
       "    </tr>\n",
       "    <tr>\n",
       "      <th>4</th>\n",
       "      <td>1,34409E+18</td>\n",
       "      <td>0</td>\n",
       "      <td>i’m sore from legs yesterday and got the vacci...</td>\n",
       "    </tr>\n",
       "  </tbody>\n",
       "</table>\n",
       "</div>"
      ],
      "text/plain": [
       "            id  is_misinfo                                              Texts\n",
       "0  1,34361E+18           0  happy getting first dose vaccine its time that...\n",
       "1  1,38757E+18           0  shot done ready run days course walgreens was ...\n",
       "2  1,34685E+18           1  wonder are the garda warned that they would on...\n",
       "3   1,3466E+18           0  you think watch better than ampburn not worry ...\n",
       "4  1,34409E+18           0  i’m sore from legs yesterday and got the vacci..."
      ]
     },
     "execution_count": 19,
     "metadata": {},
     "output_type": "execute_result"
    }
   ],
   "source": [
    "# Create Docunent-Term Matrix\n",
    "# look at the corpus\n",
    "df.head()"
   ]
  },
  {
   "cell_type": "code",
   "execution_count": 20,
   "metadata": {
    "colab": {
     "base_uri": "https://localhost:8080/",
     "height": 334
    },
    "id": "WIfkfcl2nQSL",
    "outputId": "08959fd7-c8a8-4538-8c97-9e57908176d2"
   },
   "outputs": [
    {
     "name": "stderr",
     "output_type": "stream",
     "text": [
      "C:\\Users\\alber\\anaconda3\\lib\\site-packages\\sklearn\\utils\\deprecation.py:87: FutureWarning: Function get_feature_names is deprecated; get_feature_names is deprecated in 1.0 and will be removed in 1.2. Please use get_feature_names_out instead.\n",
      "  warnings.warn(msg, category=FutureWarning)\n"
     ]
    },
    {
     "data": {
      "text/html": [
       "<div>\n",
       "<style scoped>\n",
       "    .dataframe tbody tr th:only-of-type {\n",
       "        vertical-align: middle;\n",
       "    }\n",
       "\n",
       "    .dataframe tbody tr th {\n",
       "        vertical-align: top;\n",
       "    }\n",
       "\n",
       "    .dataframe thead th {\n",
       "        text-align: right;\n",
       "    }\n",
       "</style>\n",
       "<table border=\"1\" class=\"dataframe\">\n",
       "  <thead>\n",
       "    <tr style=\"text-align: right;\">\n",
       "      <th></th>\n",
       "      <th>aaaaahhhhh</th>\n",
       "      <th>aadhaar</th>\n",
       "      <th>aajtak</th>\n",
       "      <th>aarogyasetu</th>\n",
       "      <th>aarogyasetuserverdown</th>\n",
       "      <th>aaron</th>\n",
       "      <th>aarp</th>\n",
       "      <th>aasan</th>\n",
       "      <th>aav</th>\n",
       "      <th>abandoned</th>\n",
       "      <th>...</th>\n",
       "      <th>zombie</th>\n",
       "      <th>zombieland</th>\n",
       "      <th>zoobear</th>\n",
       "      <th>zoom</th>\n",
       "      <th>zooted</th>\n",
       "      <th>zucker</th>\n",
       "      <th>zuckerberg</th>\n",
       "      <th>zuma</th>\n",
       "      <th>zweli</th>\n",
       "      <th>zzzzzzzz</th>\n",
       "    </tr>\n",
       "  </thead>\n",
       "  <tbody>\n",
       "    <tr>\n",
       "      <th>0</th>\n",
       "      <td>0</td>\n",
       "      <td>0</td>\n",
       "      <td>0</td>\n",
       "      <td>0</td>\n",
       "      <td>0</td>\n",
       "      <td>0</td>\n",
       "      <td>0</td>\n",
       "      <td>0</td>\n",
       "      <td>0</td>\n",
       "      <td>0</td>\n",
       "      <td>...</td>\n",
       "      <td>0</td>\n",
       "      <td>0</td>\n",
       "      <td>0</td>\n",
       "      <td>0</td>\n",
       "      <td>0</td>\n",
       "      <td>0</td>\n",
       "      <td>0</td>\n",
       "      <td>0</td>\n",
       "      <td>0</td>\n",
       "      <td>0</td>\n",
       "    </tr>\n",
       "    <tr>\n",
       "      <th>1</th>\n",
       "      <td>0</td>\n",
       "      <td>0</td>\n",
       "      <td>0</td>\n",
       "      <td>0</td>\n",
       "      <td>0</td>\n",
       "      <td>0</td>\n",
       "      <td>0</td>\n",
       "      <td>0</td>\n",
       "      <td>0</td>\n",
       "      <td>0</td>\n",
       "      <td>...</td>\n",
       "      <td>0</td>\n",
       "      <td>0</td>\n",
       "      <td>0</td>\n",
       "      <td>0</td>\n",
       "      <td>0</td>\n",
       "      <td>0</td>\n",
       "      <td>0</td>\n",
       "      <td>0</td>\n",
       "      <td>0</td>\n",
       "      <td>0</td>\n",
       "    </tr>\n",
       "    <tr>\n",
       "      <th>2</th>\n",
       "      <td>0</td>\n",
       "      <td>0</td>\n",
       "      <td>0</td>\n",
       "      <td>0</td>\n",
       "      <td>0</td>\n",
       "      <td>0</td>\n",
       "      <td>0</td>\n",
       "      <td>0</td>\n",
       "      <td>0</td>\n",
       "      <td>0</td>\n",
       "      <td>...</td>\n",
       "      <td>0</td>\n",
       "      <td>0</td>\n",
       "      <td>0</td>\n",
       "      <td>0</td>\n",
       "      <td>0</td>\n",
       "      <td>0</td>\n",
       "      <td>0</td>\n",
       "      <td>0</td>\n",
       "      <td>0</td>\n",
       "      <td>0</td>\n",
       "    </tr>\n",
       "    <tr>\n",
       "      <th>3</th>\n",
       "      <td>0</td>\n",
       "      <td>0</td>\n",
       "      <td>0</td>\n",
       "      <td>0</td>\n",
       "      <td>0</td>\n",
       "      <td>0</td>\n",
       "      <td>0</td>\n",
       "      <td>0</td>\n",
       "      <td>0</td>\n",
       "      <td>0</td>\n",
       "      <td>...</td>\n",
       "      <td>0</td>\n",
       "      <td>0</td>\n",
       "      <td>0</td>\n",
       "      <td>0</td>\n",
       "      <td>0</td>\n",
       "      <td>0</td>\n",
       "      <td>0</td>\n",
       "      <td>0</td>\n",
       "      <td>0</td>\n",
       "      <td>0</td>\n",
       "    </tr>\n",
       "    <tr>\n",
       "      <th>4</th>\n",
       "      <td>0</td>\n",
       "      <td>0</td>\n",
       "      <td>0</td>\n",
       "      <td>0</td>\n",
       "      <td>0</td>\n",
       "      <td>0</td>\n",
       "      <td>0</td>\n",
       "      <td>0</td>\n",
       "      <td>0</td>\n",
       "      <td>0</td>\n",
       "      <td>...</td>\n",
       "      <td>0</td>\n",
       "      <td>0</td>\n",
       "      <td>0</td>\n",
       "      <td>0</td>\n",
       "      <td>0</td>\n",
       "      <td>0</td>\n",
       "      <td>0</td>\n",
       "      <td>0</td>\n",
       "      <td>0</td>\n",
       "      <td>0</td>\n",
       "    </tr>\n",
       "  </tbody>\n",
       "</table>\n",
       "<p>5 rows × 12092 columns</p>\n",
       "</div>"
      ],
      "text/plain": [
       "   aaaaahhhhh  aadhaar  aajtak  aarogyasetu  aarogyasetuserverdown  aaron  \\\n",
       "0           0        0       0            0                      0      0   \n",
       "1           0        0       0            0                      0      0   \n",
       "2           0        0       0            0                      0      0   \n",
       "3           0        0       0            0                      0      0   \n",
       "4           0        0       0            0                      0      0   \n",
       "\n",
       "   aarp  aasan  aav  abandoned  ...  zombie  zombieland  zoobear  zoom  \\\n",
       "0     0      0    0          0  ...       0           0        0     0   \n",
       "1     0      0    0          0  ...       0           0        0     0   \n",
       "2     0      0    0          0  ...       0           0        0     0   \n",
       "3     0      0    0          0  ...       0           0        0     0   \n",
       "4     0      0    0          0  ...       0           0        0     0   \n",
       "\n",
       "   zooted  zucker  zuckerberg  zuma  zweli  zzzzzzzz  \n",
       "0       0       0           0     0      0         0  \n",
       "1       0       0           0     0      0         0  \n",
       "2       0       0           0     0      0         0  \n",
       "3       0       0           0     0      0         0  \n",
       "4       0       0           0     0      0         0  \n",
       "\n",
       "[5 rows x 12092 columns]"
      ]
     },
     "execution_count": 20,
     "metadata": {},
     "output_type": "execute_result"
    }
   ],
   "source": [
    "# Using CountVextorizer from sklearn \n",
    "# in data_dtm each row represents different document\n",
    "# and each collumn represents word from vocab\n",
    "\n",
    "cv = CountVectorizer(stop_words = 'english')\n",
    "df_cv = cv.fit_transform(df.Texts)\n",
    "data_dtm = pd.DataFrame(df_cv.toarray(), columns= cv.get_feature_names())\n",
    "data_dtm.index = df.index\n",
    "data_dtm.head()"
   ]
  },
  {
   "cell_type": "code",
   "execution_count": 21,
   "metadata": {
    "id": "dNf-EvpRncji"
   },
   "outputs": [],
   "source": [
    "# Lemmatizing Data\n",
    "# function to creat a list with all lemmatized words\n",
    "\n",
    "def lematizing_text(data):\n",
    "    \n",
    "    \"\"\"\n",
    "    Lematizing words from the corpus data\n",
    "    Returns list of strings with lematized \n",
    "    words in each string\n",
    "    \"\"\"\n",
    "    \n",
    "    lemmatizer = WordNetLemmatizer() \n",
    "    lemmatized_output = []\n",
    "\n",
    "    for tweet in data:\n",
    "        lemmed = ' '.join([lemmatizer.lemmatize(w) for w in tweet])\n",
    "        lemmatized_output.append(lemmed)\n",
    "        \n",
    "    return lemmatized_output"
   ]
  },
  {
   "cell_type": "code",
   "execution_count": 22,
   "metadata": {
    "colab": {
     "base_uri": "https://localhost:8080/"
    },
    "id": "lGysdfjdngyI",
    "outputId": "abfdd734-fe32-4dcb-b64e-fbbf41bcb492"
   },
   "outputs": [
    {
     "name": "stderr",
     "output_type": "stream",
     "text": [
      "[nltk_data] Downloading package wordnet to\n",
      "[nltk_data]     C:\\Users\\alber\\AppData\\Roaming\\nltk_data...\n",
      "[nltk_data]   Package wordnet is already up-to-date!\n"
     ]
    }
   ],
   "source": [
    "nltk.download('wordnet')\n",
    "lemmatized_data = lematizing_text(processed_text)"
   ]
  },
  {
   "cell_type": "code",
   "execution_count": 23,
   "metadata": {
    "colab": {
     "base_uri": "https://localhost:8080/"
    },
    "id": "8vvolUy3nndh",
    "outputId": "8f5eac73-8846-4400-f149-1fc5667216b1"
   },
   "outputs": [
    {
     "data": {
      "text/plain": [
       "['happy getting first dose vaccine time fked vaccine arm thats going happen upyourscorona',\n",
       " 'shot done ready run day course walgreens awesome pfizer great ’ hesitant hit dog need vax boarding kid need vax school plus keep dying going hospital…getvaccinated vaccinated',\n",
       " 'wonder garda warned would one first line get untested vaccine still smiling',\n",
       " 'think watch better ampburn worry whats vaccine',\n",
       " '’ sore leg yesterday got vaccine today arm ’ sore grateful soreness wow bad']"
      ]
     },
     "execution_count": 23,
     "metadata": {},
     "output_type": "execute_result"
    }
   ],
   "source": [
    "lemmatized_data[:5]"
   ]
  },
  {
   "cell_type": "code",
   "execution_count": 24,
   "metadata": {
    "id": "aeDKXqviotCG"
   },
   "outputs": [],
   "source": [
    "# Most Frequent Words for Each Class\n",
    "df_freq_mis = df[df['is_misinfo']==1]\n",
    "df_freq_not = df[df['is_misinfo']==0]"
   ]
  },
  {
   "cell_type": "code",
   "execution_count": 25,
   "metadata": {
    "id": "en3MWZiBo_Es"
   },
   "outputs": [],
   "source": [
    "data_misinfo = df_freq_mis['Texts']\n",
    "data_notmis = df_freq_not['Texts']"
   ]
  },
  {
   "cell_type": "code",
   "execution_count": 26,
   "metadata": {
    "id": "1oS87q1zpOXs"
   },
   "outputs": [],
   "source": [
    "def freq_wrds_class(data, n = 20, show= True):\n",
    "    \n",
    "    \"\"\"\n",
    "    Returns list of 2 tuples that represents frequency\n",
    "    of words in document\n",
    "    \n",
    "    data - Series with string data\n",
    "    n - number of most common words to show\n",
    "    \"\"\"\n",
    "    \n",
    "    protc_data = list(map(tokenize_text, data))\n",
    "    \n",
    "    total_vocab = set()\n",
    "    for comment in protc_data:\n",
    "        total_vocab.update(comment)\n",
    "    \n",
    "    if show:\n",
    "        print('Total words in vocab : {}'.format(len(total_vocab)))\n",
    "        print (30*'-')\n",
    "        print('Top {} most frequent words:'.format(n))\n",
    "        flat_data = [item for sublist in protc_data for item in sublist]\n",
    "        freq = FreqDist(flat_data)\n",
    "        return freq.most_common(n)\n",
    "    flat_data = [item for sublist in protc_data for item in sublist]\n",
    "    freq = FreqDist(flat_data)\n",
    "    \n",
    "    return freq"
   ]
  },
  {
   "cell_type": "code",
   "execution_count": 27,
   "metadata": {
    "colab": {
     "base_uri": "https://localhost:8080/"
    },
    "id": "MGQYRkBlpV9Z",
    "outputId": "605ca026-f5cd-4e87-c7a8-75e4b8197963"
   },
   "outputs": [
    {
     "name": "stdout",
     "output_type": "stream",
     "text": [
      "Total words in vocab : 6801\n",
      "------------------------------\n",
      "Top 20 most frequent words:\n"
     ]
    },
    {
     "data": {
      "text/plain": [
       "[('vaccine', 2134),\n",
       " ('experimental', 641),\n",
       " ('’', 588),\n",
       " ('gene', 563),\n",
       " ('therapy', 554),\n",
       " ('covid', 383),\n",
       " ('people', 334),\n",
       " ('”', 314),\n",
       " ('depopulation', 297),\n",
       " ('vaccines', 297),\n",
       " ('“', 296),\n",
       " ('amp', 259),\n",
       " ('take', 225),\n",
       " ('virus', 211),\n",
       " ('mrna', 206),\n",
       " ('pfizer', 204),\n",
       " ('untested', 170),\n",
       " ('get', 169),\n",
       " ('rushed', 163),\n",
       " ('bioweapon', 125)]"
      ]
     },
     "execution_count": 27,
     "metadata": {},
     "output_type": "execute_result"
    }
   ],
   "source": [
    "# Top 20 Misinfo:\n",
    "freq_wrds_class(data_misinfo, show=True)"
   ]
  },
  {
   "cell_type": "code",
   "execution_count": null,
   "metadata": {
    "colab": {
     "base_uri": "https://localhost:8080/"
    },
    "id": "JCsbxZ_6pc_R",
    "outputId": "2ad4b6fb-fa92-47ce-f3d1-4ead58931249"
   },
   "outputs": [
    {
     "name": "stdout",
     "output_type": "stream",
     "text": [
      "Total words in vocab : 8191\n",
      "------------------------------\n",
      "Top 20 most frequent words:\n"
     ]
    },
    {
     "data": {
      "text/plain": [
       "[('vaccine', 3638),\n",
       " ('’', 2094),\n",
       " ('got', 1092),\n",
       " ('first', 871),\n",
       " ('covid', 841),\n",
       " ('dose', 803),\n",
       " ('worry', 759),\n",
       " ('vaccinated', 686),\n",
       " ('get', 627),\n",
       " ('today', 508),\n",
       " ('second', 490),\n",
       " ('shot', 419),\n",
       " ('pfizer', 409),\n",
       " ('grateful', 405),\n",
       " ('moderna', 354),\n",
       " ('getvaccinated', 287),\n",
       " ('getting', 284),\n",
       " ('dont', 272),\n",
       " ('need', 258),\n",
       " ('whats', 255)]"
      ]
     },
     "execution_count": 27,
     "metadata": {},
     "output_type": "execute_result"
    }
   ],
   "source": [
    "# Top 20 not mis:\n",
    "freq_wrds_class(data_notmis)"
   ]
  },
  {
   "cell_type": "markdown",
   "metadata": {
    "id": "VWd_A7d6xjvA"
   },
   "source": [
    "**Modelling**"
   ]
  },
  {
   "cell_type": "code",
   "execution_count": 28,
   "metadata": {
    "id": "vbmGEUvzpnOV"
   },
   "outputs": [],
   "source": [
    "# Based Line Model\n",
    "X = lemmatized_data\n",
    "y = df['is_misinfo']"
   ]
  },
  {
   "cell_type": "code",
   "execution_count": 29,
   "metadata": {
    "colab": {
     "base_uri": "https://localhost:8080/"
    },
    "id": "HW88BuYLp9i9",
    "outputId": "1ca1307d-6a15-479f-cc3e-65a0a5f39ca7"
   },
   "outputs": [],
   "source": [
    "X_train, X_test, y_train, y_test = train_test_split(X, y, test_size=0.10, random_state=1)\n",
    "tfidf = TfidfVectorizer()\n",
    "\n",
    "x_train_tfidf = tfidf.fit_transform(X_train)  # make sure in train\n",
    "x_test_tfidf = tfidf.transform(X_test)   # make sure on test"
   ]
  },
  {
   "cell_type": "code",
   "execution_count": 30,
   "metadata": {
    "colab": {
     "base_uri": "https://localhost:8080/"
    },
    "id": "Bcj-yIfqqEKJ",
    "outputId": "ac6a52bb-5f27-4196-e68c-88eca1f94e75"
   },
   "outputs": [
    {
     "name": "stdout",
     "output_type": "stream",
     "text": [
      "Average Number of Non-Zero Elements in Vectorized Tweets: 12.494444444444444\n",
      "Percentage of columns containing ZERO: 0.9988283529215637\n"
     ]
    }
   ],
   "source": [
    "non_zero_cols = x_train_tfidf.nnz / float(x_train_tfidf.shape[0])\n",
    "print(\"Average Number of Non-Zero Elements in Vectorized Tweets: {}\".format(non_zero_cols))\n",
    "\n",
    "percent_sparse = 1 - (non_zero_cols / float(x_train_tfidf.shape[1]))\n",
    "print('Percentage of columns containing ZERO: {}'.format(percent_sparse))"
   ]
  },
  {
   "cell_type": "code",
   "execution_count": 31,
   "metadata": {
    "id": "wrwdltAXqLL_"
   },
   "outputs": [],
   "source": [
    "# Lets Keep All models Results in dictionary for future visualization\n",
    "eval_metrics_dict = {}"
   ]
  },
  {
   "cell_type": "code",
   "execution_count": 32,
   "metadata": {
    "id": "_NH43f_GqNx_"
   },
   "outputs": [],
   "source": [
    "# Random Forrest Baseline\n",
    "rf_classifier = RandomForestClassifier(n_estimators=100, random_state=0)\n",
    "rf_classifier.fit(x_train_tfidf, y_train)\n",
    "rf_test_preds = rf_classifier.predict(x_test_tfidf)"
   ]
  },
  {
   "cell_type": "code",
   "execution_count": 33,
   "metadata": {
    "colab": {
     "base_uri": "https://localhost:8080/"
    },
    "id": "P2YKaAM9qTtY",
    "outputId": "00d090f0-8dc9-42a3-eaf1-53ce7a0a9046"
   },
   "outputs": [
    {
     "name": "stdout",
     "output_type": "stream",
     "text": [
      "Random Forest:\n",
      "Precision: 0.9747\n",
      "Recall: 0.9369\n",
      "Testing Accuracy: 0.97\n",
      "F1 Score: 0.9554\n"
     ]
    }
   ],
   "source": [
    "rf_precision = precision_score(y_test, rf_test_preds)\n",
    "rf_recall = recall_score(y_test, rf_test_preds)\n",
    "rf_acc_score = accuracy_score(y_test, rf_test_preds)\n",
    "rf_f1_score = f1_score(y_test, rf_test_preds)\n",
    "print('Random Forest:')\n",
    "\n",
    "print('Precision: {:.4}'.format(rf_precision))\n",
    "print('Recall: {:.4}'.format(rf_recall))\n",
    "\n",
    "print(\"Testing Accuracy: {:.4}\".format(rf_acc_score))\n",
    "print(\"F1 Score: {:.4}\".format(rf_f1_score))"
   ]
  },
  {
   "cell_type": "code",
   "execution_count": 34,
   "metadata": {
    "colab": {
     "base_uri": "https://localhost:8080/",
     "height": 460
    },
    "id": "xrOsApA6qyFU",
    "outputId": "aa34930a-12c2-4b74-b8aa-92cfebd685a7"
   },
   "outputs": [
    {
     "data": {
      "image/png": "[encoded data removed]",
      "text/plain": [
       "<Figure size 432x432 with 1 Axes>"
      ]
     },
     "metadata": {
      "image/png": {
       "height": 440,
       "width": 397
      }
     },
     "output_type": "display_data"
    }
   ],
   "source": [
    "fig, ax = plt.subplots(figsize=(6,6))\n",
    "mat = confusion_matrix(y_test, rf_test_preds)\n",
    "sns.heatmap(mat.T, square=True, annot=True, fmt='d', cbar=False,\n",
    "            xticklabels=['Not_Misinfo', 'Misinfo'], yticklabels=['Not_Misinfo', 'Misinfo'])\n",
    "plt.xlabel('true label')\n",
    "plt.ylabel('predicted label')\n",
    "plt.title('Confusion Matrix for \\n Random Forest with TFIDF Vectorizer')\n",
    "#plt.savefig('../images/matrix.png')\n",
    "plt.show()"
   ]
  },
  {
   "cell_type": "code",
   "execution_count": 35,
   "metadata": {
    "id": "wBkuEU6srG60"
   },
   "outputs": [],
   "source": [
    "eval_metrics_dict['Random Forest Baseline'] = {'precision' : '{:.4}'.format(rf_precision), 'recall': '{:.4}'.format(rf_recall), 'f1-score': '{:.4}'.format(rf_f1_score) }"
   ]
  },
  {
   "cell_type": "code",
   "execution_count": 36,
   "metadata": {
    "id": "ggLuAu5yrWjx"
   },
   "outputs": [],
   "source": [
    "# Logistic Regression Baseline\n",
    "logreg = LogisticRegression()\n",
    "logreg.fit(x_train_tfidf, y_train)\n",
    "logreg_test_preds = logreg.predict(x_test_tfidf)"
   ]
  },
  {
   "cell_type": "code",
   "execution_count": 37,
   "metadata": {
    "colab": {
     "base_uri": "https://localhost:8080/"
    },
    "id": "zXrVkFu8ryL0",
    "outputId": "a6f206cd-b304-46d8-ff45-d0417c2a5c57"
   },
   "outputs": [
    {
     "name": "stdout",
     "output_type": "stream",
     "text": [
      "Logistic Regression:\n",
      "Precision: 0.9798\n",
      "Recall: 0.9417\n",
      "Testing Accuracy: 0.9733\n",
      "F1 Score: 0.9604\n"
     ]
    }
   ],
   "source": [
    "log_precision = precision_score(y_test, logreg_test_preds)\n",
    "log_recall = recall_score(y_test, logreg_test_preds)\n",
    "log_acc_score = accuracy_score(y_test, logreg_test_preds)\n",
    "log_f1_score = f1_score(y_test, logreg_test_preds)\n",
    "print('Logistic Regression:')\n",
    "\n",
    "print('Precision: {:.4}'.format(log_precision))\n",
    "print('Recall: {:.4}'.format(log_recall))\n",
    "\n",
    "print(\"Testing Accuracy: {:.4}\".format(log_acc_score))\n",
    "print(\"F1 Score: {:.4}\".format(log_f1_score))"
   ]
  },
  {
   "cell_type": "code",
   "execution_count": 38,
   "metadata": {
    "colab": {
     "base_uri": "https://localhost:8080/",
     "height": 415
    },
    "id": "Il4bu2nLseDB",
    "outputId": "98126f83-8d02-4515-dedc-abfc8a75ed44"
   },
   "outputs": [
    {
     "data": {
      "image/png": "[encoded data removed]",
      "text/plain": [
       "<Figure size 432x432 with 1 Axes>"
      ]
     },
     "metadata": {
      "image/png": {
       "height": 397,
       "width": 397
      }
     },
     "output_type": "display_data"
    }
   ],
   "source": [
    "fig, ax = plt.subplots(figsize=(6,6))\n",
    "mat = confusion_matrix(y_test, logreg_test_preds)\n",
    "sns.heatmap(mat.T, square=True, annot=True, fmt='d', cbar=False,\n",
    "            xticklabels=['Not_Misinfo', 'Misinfo'], yticklabels=['Not_Misinfo', 'Misinfo'])\n",
    "plt.xlabel('true label')\n",
    "plt.ylabel('predicted label');"
   ]
  },
  {
   "cell_type": "code",
   "execution_count": 39,
   "metadata": {
    "id": "D1t8Pmv9sw-K"
   },
   "outputs": [],
   "source": [
    "eval_metrics_dict['Logistic Regression Baseline'] = {'precision' : '{:.4}'.format(log_precision), 'recall': '{:.4}'.format(log_recall), 'f1-score': '{:.4}'.format(log_f1_score) }"
   ]
  },
  {
   "cell_type": "code",
   "execution_count": 40,
   "metadata": {
    "id": "ViCptSr8szX_"
   },
   "outputs": [],
   "source": [
    "# Naive Bayes Baseline\n",
    "nb = MultinomialNB()\n",
    "nb.fit(x_train_tfidf, y_train)\n",
    "nb_test_preds = nb.predict(x_test_tfidf)"
   ]
  },
  {
   "cell_type": "code",
   "execution_count": 41,
   "metadata": {
    "colab": {
     "base_uri": "https://localhost:8080/"
    },
    "id": "c6GLzFU4s2_c",
    "outputId": "a222da91-4365-41ed-dc1e-cf20696ff34a"
   },
   "outputs": [
    {
     "name": "stdout",
     "output_type": "stream",
     "text": [
      "Naive Bayes:\n",
      "Precision: 0.963\n",
      "Recall: 0.8835\n",
      "Testing Accuracy: 0.9483\n",
      "F1 Score: 0.9215\n"
     ]
    }
   ],
   "source": [
    "nb_precision = precision_score(y_test, nb_test_preds)\n",
    "nb_recall = recall_score(y_test, nb_test_preds)\n",
    "nb_acc_score = accuracy_score(y_test, nb_test_preds)\n",
    "nb_f1_score = f1_score(y_test, nb_test_preds)\n",
    "print('Naive Bayes:')\n",
    "\n",
    "print('Precision: {:.4}'.format(nb_precision))\n",
    "print('Recall: {:.4}'.format(nb_recall))\n",
    "\n",
    "print(\"Testing Accuracy: {:.4}\".format(nb_acc_score))\n",
    "print(\"F1 Score: {:.4}\".format(nb_f1_score))"
   ]
  },
  {
   "cell_type": "code",
   "execution_count": 42,
   "metadata": {
    "colab": {
     "base_uri": "https://localhost:8080/",
     "height": 415
    },
    "id": "MslgrK0StmwB",
    "outputId": "89c298d6-ec5a-47eb-c9c8-784b8cc5be3f"
   },
   "outputs": [
    {
     "data": {
      "image/png": "[encoded data removed]",
      "text/plain": [
       "<Figure size 432x432 with 1 Axes>"
      ]
     },
     "metadata": {
      "image/png": {
       "height": 397,
       "width": 397
      }
     },
     "output_type": "display_data"
    }
   ],
   "source": [
    "fig, ax = plt.subplots(figsize=(6,6))\n",
    "mat = confusion_matrix(y_test, nb_test_preds)\n",
    "sns.heatmap(mat.T, square=True, annot=True, fmt='d', cbar=False,\n",
    "            xticklabels=['Not_Misinfo', 'Misinfo'], yticklabels=['Not_Misinfo', 'Misinfo'])\n",
    "plt.xlabel('true label')\n",
    "plt.ylabel('predicted label');"
   ]
  },
  {
   "cell_type": "code",
   "execution_count": 43,
   "metadata": {
    "id": "AOQW2ijLt6FR"
   },
   "outputs": [],
   "source": [
    "eval_metrics_dict['Naive Bayes Baseline'] = {'precision' : '{:.4}'.format(nb_precision), 'recall': '{:.4}'.format(nb_recall), 'f1-score': '{:.4}'.format(nb_f1_score) }"
   ]
  },
  {
   "cell_type": "code",
   "execution_count": 44,
   "metadata": {
    "colab": {
     "base_uri": "https://localhost:8080/",
     "height": 143
    },
    "id": "7JjHFwPCt_ah",
    "outputId": "536dc9e0-6ed8-4b12-dea8-1adebbf140ee"
   },
   "outputs": [
    {
     "data": {
      "text/html": [
       "<div>\n",
       "<style scoped>\n",
       "    .dataframe tbody tr th:only-of-type {\n",
       "        vertical-align: middle;\n",
       "    }\n",
       "\n",
       "    .dataframe tbody tr th {\n",
       "        vertical-align: top;\n",
       "    }\n",
       "\n",
       "    .dataframe thead th {\n",
       "        text-align: right;\n",
       "    }\n",
       "</style>\n",
       "<table border=\"1\" class=\"dataframe\">\n",
       "  <thead>\n",
       "    <tr style=\"text-align: right;\">\n",
       "      <th></th>\n",
       "      <th>precision</th>\n",
       "      <th>recall</th>\n",
       "      <th>f1-score</th>\n",
       "    </tr>\n",
       "  </thead>\n",
       "  <tbody>\n",
       "    <tr>\n",
       "      <th>Random Forest Baseline</th>\n",
       "      <td>0.9747</td>\n",
       "      <td>0.9369</td>\n",
       "      <td>0.9554</td>\n",
       "    </tr>\n",
       "    <tr>\n",
       "      <th>Logistic Regression Baseline</th>\n",
       "      <td>0.9798</td>\n",
       "      <td>0.9417</td>\n",
       "      <td>0.9604</td>\n",
       "    </tr>\n",
       "    <tr>\n",
       "      <th>Naive Bayes Baseline</th>\n",
       "      <td>0.963</td>\n",
       "      <td>0.8835</td>\n",
       "      <td>0.9215</td>\n",
       "    </tr>\n",
       "  </tbody>\n",
       "</table>\n",
       "</div>"
      ],
      "text/plain": [
       "                             precision  recall f1-score\n",
       "Random Forest Baseline          0.9747  0.9369   0.9554\n",
       "Logistic Regression Baseline    0.9798  0.9417   0.9604\n",
       "Naive Bayes Baseline             0.963  0.8835   0.9215"
      ]
     },
     "execution_count": 44,
     "metadata": {},
     "output_type": "execute_result"
    }
   ],
   "source": [
    "baseline_results = pd.DataFrame(eval_metrics_dict).T\n",
    "baseline_results"
   ]
  },
  {
   "cell_type": "code",
   "execution_count": 52,
   "metadata": {
    "id": "ZDaqBWoPuDlm"
   },
   "outputs": [],
   "source": [
    "# Tuning Model\n",
    "from sklearn.model_selection import GridSearchCV\n",
    "\n",
    "# Number of trees in random forrest\n",
    "n_estimators = [int(x) for x in np.linspace(start = 50, stop = 200, num =5)]\n",
    "\n",
    "# number of features to consider at each split\n",
    "max_features = ['auto', 'sqrt']\n",
    "\n",
    "# Max number of levels in tree\n",
    "max_depth = [2,4]\n",
    "\n",
    "# min number of samples required to splid the node\n",
    "min_samples_split =[2,5]\n",
    "\n",
    "# min number of samples required at each leaf node\n",
    "min_samples_leaf =[1,2]\n",
    "\n",
    "#Method of selecting samples for training each tree\n",
    "bootstrap =[True,False]"
   ]
  },
  {
   "cell_type": "code",
   "execution_count": 53,
   "metadata": {
    "colab": {
     "base_uri": "https://localhost:8080/"
    },
    "id": "82Y4ie_ZuRXM",
    "outputId": "bf0ae849-94ff-43c3-fea9-f755cf1687df"
   },
   "outputs": [
    {
     "data": {
      "text/plain": [
       "{'n_estimators': [50, 87, 125, 162, 200],\n",
       " 'max_features': ['auto', 'sqrt'],\n",
       " 'max_depth': [2, 4],\n",
       " 'min_samples_split': [2, 5],\n",
       " 'min_samples_leaf': [1, 2],\n",
       " 'bootstrap': [True, False]}"
      ]
     },
     "execution_count": 53,
     "metadata": {},
     "output_type": "execute_result"
    }
   ],
   "source": [
    "param_grid = {'n_estimators' : n_estimators,\n",
    "             'max_features' : max_features,\n",
    "             'max_depth' : max_depth,\n",
    "             'min_samples_split' : min_samples_split,\n",
    "             'min_samples_leaf' : min_samples_leaf,\n",
    "             'bootstrap' : bootstrap }\n",
    "param_grid"
   ]
  },
  {
   "cell_type": "code",
   "execution_count": 60,
   "metadata": {
    "id": "eTaUjhy6uTsq"
   },
   "outputs": [],
   "source": [
    "rf_momdel = RandomForestClassifier()\n",
    "rf_grid = GridSearchCV(estimator = rf_momdel, param_grid = param_grid, cv = 3, verbose = 3, n_jobs = 4, scoring = 'recall' )"
   ]
  },
  {
   "cell_type": "code",
   "execution_count": 59,
   "metadata": {
    "colab": {
     "base_uri": "https://localhost:8080/"
    },
    "id": "5wYZO4nquVvJ",
    "outputId": "1639e04e-3b03-437c-ef5e-92e617cd9ed7"
   },
   "outputs": [
    {
     "name": "stdout",
     "output_type": "stream",
     "text": [
      "Fitting 3 folds for each of 160 candidates, totalling 480 fits\n"
     ]
    },
    {
     "data": {
      "text/plain": [
       "GridSearchCV(cv=3, estimator=RandomForestClassifier(), n_jobs=4,\n",
       "             param_grid={'bootstrap': [True, False], 'max_depth': [2, 4],\n",
       "                         'max_features': ['auto', 'sqrt'],\n",
       "                         'min_samples_leaf': [1, 2],\n",
       "                         'min_samples_split': [2, 5],\n",
       "                         'n_estimators': [50, 87, 125, 162, 200]},\n",
       "             scoring='recall', verbose=3)"
      ]
     },
     "execution_count": 59,
     "metadata": {},
     "output_type": "execute_result"
    }
   ],
   "source": [
    "rf_grid.fit(x_train_tfidf, y_train)"
   ]
  },
  {
   "cell_type": "code",
   "execution_count": 61,
   "metadata": {
    "colab": {
     "base_uri": "https://localhost:8080/"
    },
    "id": "YgWpc5pPuvDC",
    "outputId": "610dd514-8d5e-44ac-ab08-99341886199c"
   },
   "outputs": [
    {
     "ename": "AttributeError",
     "evalue": "'GridSearchCV' object has no attribute 'best_params_'",
     "output_type": "error",
     "traceback": [
      "\u001b[1;31m---------------------------------------------------------------------------\u001b[0m",
      "\u001b[1;31mAttributeError\u001b[0m                            Traceback (most recent call last)",
      "\u001b[1;32m~\\AppData\\Local\\Temp/ipykernel_3404/3148038132.py\u001b[0m in \u001b[0;36m<module>\u001b[1;34m\u001b[0m\n\u001b[1;32m----> 1\u001b[1;33m \u001b[0mrf_grid\u001b[0m\u001b[1;33m.\u001b[0m\u001b[0mbest_params_\u001b[0m\u001b[1;33m\u001b[0m\u001b[1;33m\u001b[0m\u001b[0m\n\u001b[0m",
      "\u001b[1;31mAttributeError\u001b[0m: 'GridSearchCV' object has no attribute 'best_params_'"
     ]
    }
   ],
   "source": [
    "rf_grid.best_params_"
   ]
  },
  {
   "cell_type": "code",
   "execution_count": null,
   "metadata": {
    "id": "xxstcudEuxJ8"
   },
   "outputs": [],
   "source": [
    "rf_clf_tunned = RandomForestClassifier(n_estimators = 100, max_depth = 2, max_features = 'auto', min_samples_split=2)\n",
    "rf_clf_tunned.fit(x_train_tfidf, y_train)\n",
    "t_rf_test_preds = rf_clf_tunned.predict(x_train_tfidf)"
   ]
  },
  {
   "cell_type": "code",
   "execution_count": null,
   "metadata": {
    "colab": {
     "base_uri": "https://localhost:8080/"
    },
    "id": "sltQ6xcAu4gT",
    "outputId": "66eda93e-bb17-4009-bca0-e67492608e84"
   },
   "outputs": [],
   "source": [
    "t_rf_precision = precision_score(y_test, t_rf_test_preds)\n",
    "t_rf_recall = recall_score(y_test, t_rf_test_preds)\n",
    "t_rf_acc_score = accuracy_score(y_test, t_rf_test_preds)\n",
    "t_rf_f1_score = f1_score(y_test, t_rf_test_preds)\n",
    "print('Random Forest with Hyper Parameters selected with GridSearch:')\n",
    "\n",
    "print('Precision: {:.4}'.format(t_rf_precision))\n",
    "print('Recall: {:.4}'.format(t_rf_recall))\n",
    "\n",
    "print(\"Testing Accuracy: {:.4}\".format(t_rf_acc_score))\n",
    "print(\"F1 Score: {:.4}\".format(t_rf_f1_score))"
   ]
  },
  {
   "cell_type": "code",
   "execution_count": null,
   "metadata": {
    "colab": {
     "base_uri": "https://localhost:8080/",
     "height": 415
    },
    "id": "EKBJBlcGvDcv",
    "outputId": "e65cbe99-d9eb-46ae-c1e6-5c6ac3f7073e"
   },
   "outputs": [],
   "source": [
    "fig, ax = plt.subplots(figsize=(6,6))\n",
    "mat = confusion_matrix(y_test, t_rf_test_preds)\n",
    "sns.heatmap(mat.T, square=True, annot=True, fmt='d', cbar=False,\n",
    "            xticklabels=['Not_Misinfo', 'Misinfo'], yticklabels=['Not_Misinfo', 'Misinfo'])\n",
    "plt.xlabel('true label')\n",
    "plt.ylabel('predicted label')\n",
    "plt.show()"
   ]
  },
  {
   "cell_type": "code",
   "execution_count": null,
   "metadata": {
    "colab": {
     "base_uri": "https://localhost:8080/"
    },
    "id": "xBZstKhJvWDd",
    "outputId": "f4681df4-fcf5-4482-e50f-8fe4a80162b2"
   },
   "outputs": [],
   "source": [
    "t_rf_train_preds_lem = rf_clf_tunned.predict(x_train_tfidf)\n",
    "\n",
    "t_rf_precision_train = precision_score(y_train, t_rf_train_preds)\n",
    "t_rf_recall_train = recall_score(y_train, t_rf_train_preds)\n",
    "t_rf_acc_score_train = accuracy_score(y_train, t_rf_train_preds)\n",
    "t_rf_f1_score_train = f1_score(y_train, t_rf_train_preds)\n",
    "print('Random Forest with Hyper Parameters selected with GridSearch:')\n",
    "\n",
    "print('Precision: {:.4}'.format(t_rf_precision_train))\n",
    "print('Recall: {:.4}'.format(t_rf_recall_train))\n",
    "\n",
    "print(\"Training Accuracy: {:.4}\".format(t_rf_acc_score_train))\n",
    "print(\"F1 Score: {:.4}\".format(t_rf_f1_score_train))"
   ]
  },
  {
   "cell_type": "code",
   "execution_count": null,
   "metadata": {
    "id": "1CDZ-8Dy-Duj"
   },
   "outputs": [],
   "source": []
  },
  {
   "cell_type": "code",
   "execution_count": 45,
   "metadata": {
    "id": "r-qlEA0z0g_x"
   },
   "outputs": [],
   "source": [
    "from sklearn.model_selection import GridSearchCV, StratifiedKFold\n"
   ]
  },
  {
   "cell_type": "code",
   "execution_count": 62,
   "metadata": {
    "colab": {
     "base_uri": "https://localhost:8080/"
    },
    "id": "Xq9bxiSh-EEY",
    "outputId": "600f7526-a502-4370-9fc6-f47585ffd3fa"
   },
   "outputs": [
    {
     "data": {
      "text/plain": [
       "[{'C': [0.001, 0.01, 0.1, 1, 10, 100, 1000]}]"
      ]
     },
     "execution_count": 62,
     "metadata": {},
     "output_type": "execute_result"
    }
   ],
   "source": [
    "#param_grid = {'n_estimators' : n_estimators,\n",
    "#             'max_features' : max_features,'min_samples_split' : min_samples_split,\n",
    "#             'min_samples_leaf' : min_samples_leaf,\n",
    "#             'bootstrap' : bootstrap }\n",
    "#param_grid\n",
    "\n",
    "param_grid = [{'C': [0.001, 0.01, 0.1, 1, 10, 100, 1000] }]\n",
    "\n",
    "param_grid"
   ]
  },
  {
   "cell_type": "code",
   "execution_count": 63,
   "metadata": {
    "id": "H_MENUxd4Ncu"
   },
   "outputs": [
    {
     "name": "stdout",
     "output_type": "stream",
     "text": [
      "dict_keys(['C', 'class_weight', 'dual', 'fit_intercept', 'intercept_scaling', 'l1_ratio', 'max_iter', 'multi_class', 'n_jobs', 'penalty', 'random_state', 'solver', 'tol', 'verbose', 'warm_start'])\n"
     ]
    }
   ],
   "source": [
    "logger3 = LogisticRegression(penalty='l2', random_state = 0)\n",
    "print(logger3.get_params().keys())"
   ]
  },
  {
   "cell_type": "code",
   "execution_count": 78,
   "metadata": {
    "id": "U3R8KtoJ91aO"
   },
   "outputs": [
    {
     "data": {
      "text/plain": [
       "GridSearchCV(cv=StratifiedKFold(n_splits=4, random_state=None, shuffle=False),\n",
       "             estimator=LogisticRegression(),\n",
       "             param_grid={'C': [0.001, 0.01, 0.1, 1, 10, 100, 1000]})"
      ]
     },
     "execution_count": 78,
     "metadata": {},
     "output_type": "execute_result"
    }
   ],
   "source": [
    "#grid_search = GridSearchCV(estimator = logger3, param_grid = param_grid, \n",
    "#                           cv = StratifiedKFold(4), n_jobs = -1, verbose = 1, scoring = \"recall\" )\n",
    "\n",
    "grid_search = GridSearchCV(LogisticRegression(penalty='l2'), param_grid=param_grid)\n",
    "GridSearchCV(cv=StratifiedKFold(4), estimator=LogisticRegression(C=1.0, intercept_scaling=1,\n",
    "                                                                 dual=False, fit_intercept=True,\n",
    "                                                                 penalty='l2', tol=0.0001),param_grid={'C': [0.001, 0.01, 0.1, 1, 10, 100, 1000]})"
   ]
  },
  {
   "cell_type": "code",
   "execution_count": 79,
   "metadata": {
    "colab": {
     "base_uri": "https://localhost:8080/"
    },
    "id": "qOcaTViV-cOx",
    "outputId": "78632d58-f176-4cb0-8d05-1c7d418cdd59"
   },
   "outputs": [
    {
     "name": "stderr",
     "output_type": "stream",
     "text": [
      "C:\\Users\\alber\\anaconda3\\lib\\site-packages\\sklearn\\linear_model\\_logistic.py:814: ConvergenceWarning: lbfgs failed to converge (status=1):\n",
      "STOP: TOTAL NO. of ITERATIONS REACHED LIMIT.\n",
      "\n",
      "Increase the number of iterations (max_iter) or scale the data as shown in:\n",
      "    https://scikit-learn.org/stable/modules/preprocessing.html\n",
      "Please also refer to the documentation for alternative solver options:\n",
      "    https://scikit-learn.org/stable/modules/linear_model.html#logistic-regression\n",
      "  n_iter_i = _check_optimize_result(\n",
      "C:\\Users\\alber\\anaconda3\\lib\\site-packages\\sklearn\\linear_model\\_logistic.py:814: ConvergenceWarning: lbfgs failed to converge (status=1):\n",
      "STOP: TOTAL NO. of ITERATIONS REACHED LIMIT.\n",
      "\n",
      "Increase the number of iterations (max_iter) or scale the data as shown in:\n",
      "    https://scikit-learn.org/stable/modules/preprocessing.html\n",
      "Please also refer to the documentation for alternative solver options:\n",
      "    https://scikit-learn.org/stable/modules/linear_model.html#logistic-regression\n",
      "  n_iter_i = _check_optimize_result(\n",
      "C:\\Users\\alber\\anaconda3\\lib\\site-packages\\sklearn\\linear_model\\_logistic.py:814: ConvergenceWarning: lbfgs failed to converge (status=1):\n",
      "STOP: TOTAL NO. of ITERATIONS REACHED LIMIT.\n",
      "\n",
      "Increase the number of iterations (max_iter) or scale the data as shown in:\n",
      "    https://scikit-learn.org/stable/modules/preprocessing.html\n",
      "Please also refer to the documentation for alternative solver options:\n",
      "    https://scikit-learn.org/stable/modules/linear_model.html#logistic-regression\n",
      "  n_iter_i = _check_optimize_result(\n",
      "C:\\Users\\alber\\anaconda3\\lib\\site-packages\\sklearn\\linear_model\\_logistic.py:814: ConvergenceWarning: lbfgs failed to converge (status=1):\n",
      "STOP: TOTAL NO. of ITERATIONS REACHED LIMIT.\n",
      "\n",
      "Increase the number of iterations (max_iter) or scale the data as shown in:\n",
      "    https://scikit-learn.org/stable/modules/preprocessing.html\n",
      "Please also refer to the documentation for alternative solver options:\n",
      "    https://scikit-learn.org/stable/modules/linear_model.html#logistic-regression\n",
      "  n_iter_i = _check_optimize_result(\n",
      "C:\\Users\\alber\\anaconda3\\lib\\site-packages\\sklearn\\linear_model\\_logistic.py:814: ConvergenceWarning: lbfgs failed to converge (status=1):\n",
      "STOP: TOTAL NO. of ITERATIONS REACHED LIMIT.\n",
      "\n",
      "Increase the number of iterations (max_iter) or scale the data as shown in:\n",
      "    https://scikit-learn.org/stable/modules/preprocessing.html\n",
      "Please also refer to the documentation for alternative solver options:\n",
      "    https://scikit-learn.org/stable/modules/linear_model.html#logistic-regression\n",
      "  n_iter_i = _check_optimize_result(\n"
     ]
    },
    {
     "data": {
      "text/plain": [
       "GridSearchCV(estimator=LogisticRegression(),\n",
       "             param_grid=[{'C': [0.001, 0.01, 0.1, 1, 10, 100, 1000]}])"
      ]
     },
     "execution_count": 79,
     "metadata": {},
     "output_type": "execute_result"
    }
   ],
   "source": [
    "grid_search.fit(x_train_tfidf, y_train)"
   ]
  },
  {
   "cell_type": "code",
   "execution_count": 80,
   "metadata": {
    "colab": {
     "base_uri": "https://localhost:8080/"
    },
    "id": "7k7AIjhK7_VC",
    "outputId": "d793a743-3eab-4f85-e420-55d8216efd09"
   },
   "outputs": [
    {
     "data": {
      "text/plain": [
       "LogisticRegression(C=10)"
      ]
     },
     "execution_count": 80,
     "metadata": {},
     "output_type": "execute_result"
    }
   ],
   "source": [
    "grid_search.best_estimator_\n"
   ]
  },
  {
   "cell_type": "code",
   "execution_count": 81,
   "metadata": {
    "id": "yC-DB-g-wXL_"
   },
   "outputs": [],
   "source": [
    "y_test_lem = grid_search.best_estimator_.predict(x_test_tfidf)\n",
    "y_train_lem = grid_search.best_estimator_.predict(x_train_tfidf)"
   ]
  },
  {
   "cell_type": "code",
   "execution_count": 82,
   "metadata": {
    "id": "aychoFvi7H28"
   },
   "outputs": [],
   "source": [
    "rf_clf_tunned = RandomForestClassifier(n_estimators = 100, max_depth = 24, max_features = 'auto', min_samples_split=24)\n",
    "rf_clf_tunned.fit(x_train_tfidf, y_train_lem)\n",
    "t_rf_test_preds_lem = rf_clf_tunned.predict(x_test_tfidf)"
   ]
  },
  {
   "cell_type": "code",
   "execution_count": 85,
   "metadata": {
    "colab": {
     "base_uri": "https://localhost:8080/"
    },
    "id": "LLSvx3wP5RlB",
    "outputId": "9a3afe77-3111-4e90-f0d9-aadff733e3cc"
   },
   "outputs": [
    {
     "name": "stdout",
     "output_type": "stream",
     "text": [
      "Random Forest with Hyper Parameters selected with GridSearch:\n",
      "Precision: 0.9993\n",
      "Recall: 0.7911\n",
      "Training Accuracy: 0.9302\n",
      "F1 Score: 0.8831\n"
     ]
    }
   ],
   "source": [
    "t_rf_train_preds_lem = rf_clf_tunned.predict(x_train_tfidf)\n",
    "\n",
    "t_rf_precision_train = precision_score(y_train_lem, t_rf_train_preds_lem)\n",
    "t_rf_recall_train = recall_score(y_train_lem, t_rf_train_preds_lem)\n",
    "t_rf_acc_score_train = accuracy_score(y_train_lem, t_rf_train_preds_lem)\n",
    "t_rf_f1_score_train = f1_score(y_train_lem, t_rf_train_preds_lem)\n",
    "print('Random Forest with Hyper Parameters selected with GridSearch:')\n",
    "\n",
    "print('Precision: {:.4}'.format(t_rf_precision_train))\n",
    "print('Recall: {:.4}'.format(t_rf_recall_train))\n",
    "\n",
    "print(\"Training Accuracy: {:.4}\".format(t_rf_acc_score_train))\n",
    "print(\"F1 Score: {:.4}\".format(t_rf_f1_score_train))"
   ]
  },
  {
   "cell_type": "code",
   "execution_count": 86,
   "metadata": {
    "colab": {
     "base_uri": "https://localhost:8080/",
     "height": 415
    },
    "id": "P4i6CiYk6VdA",
    "outputId": "12a2e579-f180-45e9-e157-fe61f97c1d64"
   },
   "outputs": [
    {
     "data": {
      "image/png": "[encoded data removed]",
      "text/plain": [
       "<Figure size 432x432 with 1 Axes>"
      ]
     },
     "metadata": {
      "image/png": {
       "height": 397,
       "width": 397
      }
     },
     "output_type": "display_data"
    }
   ],
   "source": [
    "fig, ax = plt.subplots(figsize=(6,6))\n",
    "mat = confusion_matrix(y_test_lem, t_rf_test_preds_lem)\n",
    "sns.heatmap(mat.T, square=True, annot=True, fmt='d', cbar=False,\n",
    "            xticklabels=['Not_Misinfo', 'Misinfo'], yticklabels=['Not_Misinfo', 'Misinfo'])\n",
    "plt.xlabel('true label')\n",
    "plt.ylabel('predicted label')\n",
    "plt.show()"
   ]
  },
  {
   "cell_type": "code",
   "execution_count": null,
   "metadata": {},
   "outputs": [],
   "source": [
    "import streamlit as st  ## streamlit\n",
    "import pandas as pd  ## for data manipulation\n",
    "import pickle   ## For model loading \n",
    "import spacy  ## For NLP tasks \n",
    "import time\n",
    "from io import StringIO  ## for text input and output from the web app\n",
    "from PIL import Image   ## For image\n",
    "\n",
    "#Load the model the trained model which saved as a pickle file\n",
    "def load_model():\n",
    "\n",
    "#declare global variables\n",
    "    global nlp\n",
    "    global textcat\n",
    "\n",
    "nlp = spacy.load(model_path)  ## will load the model from the model_path \"(need to export/save the model and copy the path)\"\n",
    "textcat = nlp.get_pipe(model_file)   ## will load the model file \"(put the .pickle model inside)\"\n",
    "\n",
    "# After loading the model, we'll use it to make a prediction on the tweet for classification.\n",
    "# The prediction function will take the tweet as input and then first vectorize the tweet and then will classify it using our model\n",
    "# 2 categories: misinformation or not, if the prediction is 1 means misinformation and 0 means affirmative\n",
    "def predict(tweet):\n",
    "    print(\"news = \", tweet)  ## tweet\n",
    "    news = [tweet]\n",
    "    txt_docs = list(nlp.pipe(tweet)) \n",
    "    scores, _ = textcat.predict(txt_docs)\n",
    "    print(scores)\n",
    "    predicted_classes = scores.argmax(axis=1)\n",
    "    print(predicted_classes)\n",
    "    result = ['misinformation' if lbl == 1 else 'affirmative' for lbl in predicted_classes]\n",
    "    print(result)\n",
    "    return(result)\n",
    "\n",
    "# The run function will take the input from the user via our app as a text or text file \n",
    "# and after pressing the button it will give the output\n",
    "def run():\n",
    "    st.sidebar.info('You can either enter the news item online in the textbox or upload a txt file')\n",
    "    st.set_option('deprecation.showfileUploaderEncoding', False)\n",
    "    add_selectbox = st.sidebar.selectbox(\"How would you like to face reality?\", (\"Online\", \"Txt file\"))\n",
    "    st.title(\"Predicting misinformation tweet\")\n",
    "    st.header('This app is created to predict if a tweet is misinformation or not')\n",
    "    if add_selectbox == \"Online\":\n",
    "        text1 = st.text_area('Enter text')\n",
    "        output = \"\"\n",
    "        if st.button(\"Face reality\"):\n",
    "            output = predict(text1)\n",
    "            output = str(output[0]) # since its a list, get the 1st item\n",
    "            st.success(f\"The news item is {output}\")\n",
    "            st.balloons()\n",
    "      elif add_selectbox == \"Txt file\":\n",
    "           output = \"\"\n",
    "          file_buffer = st.file_uploader(\"Upload text file for new item\", type=[\"txt\"])\n",
    "         if st.button(\"Face reality\"):\n",
    "             text_news = file_buffer.read()\n",
    "\n",
    "# in the latest stream-lit version ie. 68, we need to explicitly convert bytes to text\n",
    "          st_version = st.__version__ # eg 0.67.0\n",
    "          versions = st_version.split('.')\n",
    "          if int(versions[1]) > 67:\n",
    "               text_news = text_news.decode('utf-8')\n",
    "            print(text_news)\n",
    "          output = predict(text_news)\n",
    "          output = str(output[0])\n",
    "          st.success(f\"The news item is {output}\")\n",
    "          st.balloons()\n",
    "\n",
    "# Execute the code only if the file was run directly and not imported.\n",
    "# The module is being used standalone by the user to do corresponding appropriate actions.\n",
    "if __name__ == \"__main__\":\n",
    "load_model()\n",
    "run()"
   ]
  }
 ],
 "metadata": {
  "colab": {
   "collapsed_sections": [],
   "name": "Untitled2.ipynb",
   "provenance": []
  },
  "kernelspec": {
   "display_name": "Python 3 (ipykernel)",
   "language": "python",
   "name": "python3"
  },
  "language_info": {
   "codemirror_mode": {
    "name": "ipython",
    "version": 3
   },
   "file_extension": ".py",
   "mimetype": "text/x-python",
   "name": "python",
   "nbconvert_exporter": "python",
   "pygments_lexer": "ipython3",
   "version": "3.8.12"
  }
 },
 "nbformat": 4,
 "nbformat_minor": 1
}
